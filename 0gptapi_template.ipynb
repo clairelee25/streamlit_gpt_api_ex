{
 "cells": [
  {
   "cell_type": "markdown",
   "id": "c6bd77e5",
   "metadata": {},
   "source": [
    "# gpt api를 활용한 웹서비스"
   ]
  },
  {
   "cell_type": "markdown",
   "id": "3211d71a",
   "metadata": {},
   "source": [
    "# API key 로딩"
   ]
  },
  {
   "cell_type": "code",
   "execution_count": 4,
   "id": "b3231037",
   "metadata": {},
   "outputs": [],
   "source": [
    "from dotenv import load_dotenv\n",
    "import os\n",
    "\n",
    "# .env 파일 불러오기\n",
    "load_dotenv(override=True)\n",
    "\n",
    "# 환경변수 가져오기\n",
    "OPENAI_API_KEY = os.getenv(\"OPENAI_API_KEY\")\n",
    "# print(OPENAI_API_KEY)"
   ]
  },
  {
   "cell_type": "markdown",
   "id": "cebd453d",
   "metadata": {},
   "source": [
    "## 라이브러리 로딩 및 객체 생성"
   ]
  },
  {
   "cell_type": "code",
   "execution_count": 5,
   "id": "dac30389",
   "metadata": {},
   "outputs": [],
   "source": [
    "from openai import OpenAI\n",
    "# openai api 인증 및 OpenAI 클라이언트(객체) 생성\n",
    "client = OpenAI(api_key=OPENAI_API_KEY)"
   ]
  },
  {
   "cell_type": "code",
   "execution_count": 6,
   "id": "6335824e",
   "metadata": {},
   "outputs": [
    {
     "name": "stdout",
     "output_type": "stream",
     "text": [
      "ChatCompletionMessage(content='전세계에서 가장 많이 사용되는 프로그래밍 언어들은 다양한 조사와 통계에 따라 차이가 있을 수 있지만, 대체로 아래와 같은 언어들이 인기를 누리고 있습니다.\\n\\n1. Python\\n2. JavaScript\\n3. Java\\n4. C#\\n5. PHP\\n\\n이 외에도 C++, Ruby, Swift, Kotlin, TypeScript 등도 많이 사용되는 프로그래밍 언어들 중 하나입니다. 프로그래밍 언어의 인기도는 시간이 지남에 따라 변할 수 있으므로 항상 최신 정보를 확인하는 것이 좋습니다.', refusal=None, role='assistant', annotations=[], audio=None, function_call=None, tool_calls=None)\n"
     ]
    }
   ],
   "source": [
    "completion = client.chat.completions.create(\n",
    "  model=\"gpt-3.5-turbo\",\n",
    "  messages=[\n",
    "    {\"role\": \"system\", \"content\": \"너는 IT전문가야.\"},\n",
    "    {\"role\": \"user\", \"content\": \"전세계서 가장 많이 사용하는 프로그래밍 언어 top5를 얘기해줘\"}\n",
    "  ]\n",
    ")\n",
    "\n",
    "print(completion.choices[0].message)"
   ]
  },
  {
   "cell_type": "code",
   "execution_count": null,
   "id": "811e1330",
   "metadata": {},
   "outputs": [],
   "source": []
  }
 ],
 "metadata": {
  "kernelspec": {
   "display_name": "gpt_env",
   "language": "python",
   "name": "python3"
  },
  "language_info": {
   "codemirror_mode": {
    "name": "ipython",
    "version": 3
   },
   "file_extension": ".py",
   "mimetype": "text/x-python",
   "name": "python",
   "nbconvert_exporter": "python",
   "pygments_lexer": "ipython3",
   "version": "3.12.12"
  }
 },
 "nbformat": 4,
 "nbformat_minor": 5
}
